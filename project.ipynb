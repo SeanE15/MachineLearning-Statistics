{
 "cells": [
  {
   "cell_type": "markdown",
   "metadata": {},
   "source": [
    "<p align=\"center\">\n",
    "  <img src=\"https://miro.medium.com/max/1400/1*7bnLKsChXq94QjtAiRn40w.png\" \n",
    "</p>\n",
    "\n",
    "### <div align=\"center\">Machine Learning and Statistics: Tasks</div>\n",
    "#### <div align=\"center\">Author: Sean Elliott</div>\n"
   ]
  },
  {
   "cell_type": "markdown",
   "metadata": {},
   "source": [
    "### <div align=\"center\">Iris Fisher Dataset</div>\n",
    "\n",
    "The Iris Fisher Dataset, made famous by British statistician Ronalf Fisher in 1936, is a multivariate dataset which explores the relationships between 3 species of Iris flower. Two of the species were collected in the Gaspe peninsula which is situated along the southern shore of the St Lawrence River. This river extends out from the Matapedia Value in Quebec. Canada into the Gulf of St.Lawrence.\n",
    "\n",
    "The dataset consists of 50 samples from each of the three species of Iris - Iris Setosa, Iris Virginica and Iris Versicolor.\n",
    "\n",
    "Four distinct features were measured from each sample - the length and width of the sepals (respectively) and the length and width of the petals (again, respectively). The common unit of measurement is in centimeters.\n",
    "\n",
    "Based on the combination of the 4 distinct features; Fisher was able to develop a linear discriminant model to distinguish the 4 species from one another.\n",
    "\n",
    "As the dataset has grown in popularity; it is commonly used as an example for statistical classification techniques in machine learning; like SVM (support vector machine) along with others."
   ]
  },
  {
   "cell_type": "code",
   "execution_count": 9,
   "metadata": {},
   "outputs": [],
   "source": [
    "import pandas as pd\n",
    "\n",
    "import numpy as np\n",
    "\n",
    "import seaborn as sns \n",
    "\n",
    "import matplotlib.pyplot as plt \n",
    "\n",
    "import seaborn as sns\n"
   ]
  },
  {
   "cell_type": "code",
   "execution_count": 10,
   "metadata": {},
   "outputs": [
    {
     "name": "stdout",
     "output_type": "stream",
     "text": [
      "     Sepal_Length  Sepal_Width  Petal_Length  Petal_Width           Class\n",
      "0             5.1          3.5           1.4          0.2     Iris-setosa\n",
      "1             4.9          3.0           1.4          0.2     Iris-setosa\n",
      "2             4.7          3.2           1.3          0.2     Iris-setosa\n",
      "3             4.6          3.1           1.5          0.2     Iris-setosa\n",
      "4             5.0          3.6           1.4          0.2     Iris-setosa\n",
      "..            ...          ...           ...          ...             ...\n",
      "145           6.7          3.0           5.2          2.3  Iris-virginica\n",
      "146           6.3          2.5           5.0          1.9  Iris-virginica\n",
      "147           6.5          3.0           5.2          2.0  Iris-virginica\n",
      "148           6.2          3.4           5.4          2.3  Iris-virginica\n",
      "149           5.9          3.0           5.1          1.8  Iris-virginica\n",
      "\n",
      "[150 rows x 5 columns]\n"
     ]
    }
   ],
   "source": [
    "# Start by importing the csv file for the dataset\n",
    "csv_url = 'https://archive.ics.uci.edu/ml/machine-learning-databases/iris/iris.data'\n",
    "col_names = ['Sepal_Length','Sepal_Width','Petal_Length','Petal_Width','Class']\n",
    "iris =  pd.read_csv(csv_url, names = col_names)\n",
    "print(iris)\n"
   ]
  },
  {
   "cell_type": "markdown",
   "metadata": {},
   "source": [
    "### References:\n",
    "\n",
    "https://en.wikipedia.org/wiki/Iris_flower_data_set\n",
    "\n",
    "https://en.wikipedia.org/wiki/Gasp%C3%A9_Peninsula\n",
    "\n"
   ]
  }
 ],
 "metadata": {
  "kernelspec": {
   "display_name": "base",
   "language": "python",
   "name": "python3"
  },
  "language_info": {
   "codemirror_mode": {
    "name": "ipython",
    "version": 3
   },
   "file_extension": ".py",
   "mimetype": "text/x-python",
   "name": "python",
   "nbconvert_exporter": "python",
   "pygments_lexer": "ipython3",
   "version": "3.10.9"
  },
  "orig_nbformat": 4
 },
 "nbformat": 4,
 "nbformat_minor": 2
}
