{
 "cells": [
  {
   "cell_type": "markdown",
   "metadata": {},
   "source": [
    "<p align=\"center\">\n",
    "  <img src=\"https://miro.medium.com/max/1400/1*7bnLKsChXq94QjtAiRn40w.png\" \n",
    "</p>\n",
    "\n",
    "### <div align=\"center\">Machine Learning and Statistics: Tasks</div>\n",
    "#### <div align=\"center\">Author: Sean Elliott</div>\n"
   ]
  },
  {
   "cell_type": "markdown",
   "metadata": {},
   "source": [
    "### <div align=\"center\">Iris Fisher Dataset</div>\n",
    "\n",
    "The Iris Fisher Dataset, made famous by British statistician Ronalf Fisher in 1936, is a multivariate dataset which explores the relationships between 3 species of Iris flower. Two of the species were collected in the Gaspe peninsula which is situated along the southern shore of the St Lawrence River. This river extends out from the Matapedia Value in Quebec. Canada into the Gulf of St.Lawrence.\n",
    "\n",
    "The dataset consists of 50 samples from each of the three species of Iris - Iris Setosa, Iris Virginica and Iris Versicolor.\n",
    "\n",
    "Four distinct features were measured from each sample - the length and width of the sepals (respectively) and the length and width of the petals (again, respectively). The common unit of measurement is in centimeters.\n",
    "\n",
    "Based on the combination of the 4 distinct features; Fisher was able to develop a linear discriminant model to distinguish the 4 species from one another.\n",
    "\n",
    "As the dataset has grown in popularity; it is commonly used as an example for statistical classification techniques in machine learning; like SVM (support vector machine) along with others."
   ]
  },
  {
   "cell_type": "code",
   "execution_count": 9,
   "metadata": {},
   "outputs": [],
   "source": [
    "import pandas as pd\n",
    "\n",
    "import numpy as np\n",
    "\n",
    "import seaborn as sns \n",
    "\n",
    "import matplotlib.pyplot as plt \n",
    "\n",
    "import seaborn as sns\n"
   ]
  },
  {
   "cell_type": "code",
   "execution_count": 10,
   "metadata": {},
   "outputs": [
    {
     "name": "stdout",
     "output_type": "stream",
     "text": [
      "     Sepal_Length  Sepal_Width  Petal_Length  Petal_Width           Class\n",
      "0             5.1          3.5           1.4          0.2     Iris-setosa\n",
      "1             4.9          3.0           1.4          0.2     Iris-setosa\n",
      "2             4.7          3.2           1.3          0.2     Iris-setosa\n",
      "3             4.6          3.1           1.5          0.2     Iris-setosa\n",
      "4             5.0          3.6           1.4          0.2     Iris-setosa\n",
      "..            ...          ...           ...          ...             ...\n",
      "145           6.7          3.0           5.2          2.3  Iris-virginica\n",
      "146           6.3          2.5           5.0          1.9  Iris-virginica\n",
      "147           6.5          3.0           5.2          2.0  Iris-virginica\n",
      "148           6.2          3.4           5.4          2.3  Iris-virginica\n",
      "149           5.9          3.0           5.1          1.8  Iris-virginica\n",
      "\n",
      "[150 rows x 5 columns]\n"
     ]
    }
   ],
   "source": [
    "# Start by importing the csv file for the dataset\n",
    "csv_url = 'https://archive.ics.uci.edu/ml/machine-learning-databases/iris/iris.data'\n",
    "col_names = ['Sepal_Length','Sepal_Width','Petal_Length','Petal_Width','Class']\n",
    "iris =  pd.read_csv(csv_url, names = col_names)\n",
    "print(iris)\n"
   ]
  },
  {
   "cell_type": "markdown",
   "metadata": {},
   "source": [
    "### <div align=\"center\">Project Purpose</div>\n",
    "\n",
    "The purpose of this project is to explore classification algorithms using the Fisher Iris Dataset. This project will explore classification algorithms, their purpose, and their best use cases.\n",
    "The hope is that the outcome will provide (using classification algorithms) a trained machine that uses the dataset to learn how to accurately catergorise new observations into their correct classes or groups."
   ]
  },
  {
   "cell_type": "markdown",
   "metadata": {},
   "source": [
    "### <div align=\"center\">What is Classification in Machine Learning?</div>\n",
    "\n",
    "Classification Algorithms are a supervised learning technique used to catergories new observations. In other words it is a program which is taught to recognise patterns in a dataset, so that when  given a new, unseen dataset, it will be able to spot those same or similar patterns.\n",
    "\n",
    "There are two types of learners:\n",
    "\n",
    "#### <div align=\"center\">Lazy Learners</div>\n",
    "\n",
    "A Lazy Learner first stores the input dataset before waiting for the test dataset to 'arrive' (or be produced). The classification for this learner is carried out using the training dataset's most appropriate data. The Lazy Learner spends less time training to spot patterns and more time on prediciting outcomes. It does have some advantages, it is most appropriate when the dataset is small and more data is required, or when the cost of learning is high. It can however be less accurate than Eager Learner algorithms as it does not have access to all of the training data when it builds its inital models. Lazy Learners delay the learning process until new data is available, this can reduce the amount of data that needs to be processed which can save time and resources. It can also improve accuracy in some regard because the data is more likely to be representative of a real work situation. It can also help to prevent overfitting as the model is only trained on relevant data. \n",
    "\n",
    "##### Advantages of Lazy Learners:\n",
    "\n",
    "- Very useful when not all the data is available.\n",
    "- Lazy Learning is not prone to suffering from data interference - meaning that collecting data about an operating regime won't affect the modelling performance.\n",
    "- Lazy Learnings problem solving capabilities increase with every newly presented case.\n",
    "- Lazy Learners can be simultaneously applied to multiple problems.\n",
    "\n",
    "##### Disadvantages of Lazy Learners:\n",
    "\n",
    "- Possibility of high memory requirements (depending on the dataset) as every request for information requires the model to start the identification of a local model from scratch.\n",
    "- Lazy Learners tend to be slower to evaluate - this could be offset by lowering the size of the training information but could compromise accuracy.\n",
    "- If the data is 'noisy' then the case-base gets increased (as no abstraction occurs during the training phase).\n",
    "- Increased computational costs as the processor can only process a limited amoutn of training data points.\n",
    "\n",
    "Some examples of 'Lazy Learners' are: \n",
    "\n",
    "- kNN (k Nearest Neighbours)\n",
    "- Lazy Bayesian Rules\n",
    "- Case-based Reasoning\n",
    "\n",
    "#### <div align=\"center\">Eager Learners</div>\n",
    "\n",
    "Eager Learners consturct a classification model based on the given training data before receiving data for classification. This means the predictive model is built during the training phase - meaning that the learning process is completed before the prediciton phase begins. Eager Learners must be able to commit to a single hypothesis (or problem) that covers the entire dataset. Due to the nature of Eager Learners the training phase can take longer, but the prediciton phase can be shorter. Common uses for Eager Learners are as follows: Image Recognition, Spamdetection and time series forecasting.\n",
    "\n",
    "\n",
    "##### Advantages of Eager Learners:\n",
    "\n",
    "- Much faster than Lazy Learner algorithms in the prediciton phase.\n",
    "- Increased accuracy compared to Lazy Learner algorithms.\n",
    "- Ideal for real-time or time-sensitive applications where immediate predicitons are needed.\n",
    "\n",
    "#### Disadvantages of Eager Learners:\n",
    "\n",
    "- May contain irrelevant attributes in the data; making is 'noisy'.\n",
    "- Slower in the training phase than Lazy Learner algorithms.\n",
    "- Requires the entire dataset to present a prediciton model.\n",
    "\n",
    "Some examples of 'Eager Learners' are:\n",
    "\n",
    "- Decision Tree\n",
    "- Naive Bayes\n",
    "- ANN (Artificial Neural Networks)\n",
    "- SVM (Support Vector Machines)\n",
    "- Linear Regression\n"
   ]
  },
  {
   "cell_type": "markdown",
   "metadata": {},
   "source": [
    "### References:\n",
    "\n",
    "https://en.wikipedia.org/wiki/Iris_flower_data_set\n",
    "\n",
    "https://en.wikipedia.org/wiki/Gasp%C3%A9_Peninsula\n",
    "\n",
    "https://www.simplilearn.com/tutorials/machine-learning-tutorial/classification-in-machine-learning#:~:text=Based%20on%20training%20data%2C%20the,into%20various%20classes%20or%20groups. - Date Accessed: 04/11/2023\n",
    "\n",
    "https://builtin.com/machine-learning/classification-machine-learning  Date Accessed: 04/11/2023 \n",
    "\n",
    "https://www.autoblocks.ai/glossary/lazy-learning Date Accessed: 04/11/2023  \n",
    "\n",
    "https://www.engati.com/glossary/lazy-learning#:~:text=set%20of%20attributes.-,What%20are%20some%20examples%20of%20lazy%20learning%3F,some%20examples%20of%20lazy%20learning Date Accessed: 04/11/2023  \n",
    "\n",
    "https://www.analyticsvidhya.com/blog/2023/02/lazy-learning-vs-eager-learning-algorithms-in-machine-learning/ Date Accessed: 04/11/2023\n",
    "\n",
    "https://www.datacamp.com/blog/what-is-eager-learning - Date Accessed: 04/11/2023"
   ]
  }
 ],
 "metadata": {
  "kernelspec": {
   "display_name": "base",
   "language": "python",
   "name": "python3"
  },
  "language_info": {
   "codemirror_mode": {
    "name": "ipython",
    "version": 3
   },
   "file_extension": ".py",
   "mimetype": "text/x-python",
   "name": "python",
   "nbconvert_exporter": "python",
   "pygments_lexer": "ipython3",
   "version": "3.10.9"
  },
  "orig_nbformat": 4
 },
 "nbformat": 4,
 "nbformat_minor": 2
}
