{
 "cells": [
  {
   "cell_type": "markdown",
   "metadata": {},
   "source": [
    "<p align=\"center\">\n",
    "  <img src=\"https://www.edvancer.in/wp-content/uploads/2016/01/ML-vs.-stats1.png\" \n",
    "</p>\n",
    "\n",
    "## <div align=\"center\">Machine Learning and Statistics: Tasks</div>\n",
    "### <div align=\"center\">Author: Sean Elliott</div>\n",
    "\n",
    "----"
   ]
  },
  {
   "cell_type": "code",
   "execution_count": 1,
   "metadata": {},
   "outputs": [
    {
     "ename": "ModuleNotFoundError",
     "evalue": "No module named 'pandas'",
     "output_type": "error",
     "traceback": [
      "\u001b[1;31m---------------------------------------------------------------------------\u001b[0m",
      "\u001b[1;31mModuleNotFoundError\u001b[0m                       Traceback (most recent call last)",
      "\u001b[1;32mc:\\Users\\Sean\\Desktop\\ATU\\Sem 4\\Machine Learning and Statistics\\MachineLearning-Statistics\\tasks.ipynb Cell 2\u001b[0m line \u001b[0;36m2\n\u001b[0;32m      <a href='vscode-notebook-cell:/c%3A/Users/Sean/Desktop/ATU/Sem%204/Machine%20Learning%20and%20Statistics/MachineLearning-Statistics/tasks.ipynb#X20sZmlsZQ%3D%3D?line=0'>1</a>\u001b[0m \u001b[39m# Data frames.\u001b[39;00m\n\u001b[1;32m----> <a href='vscode-notebook-cell:/c%3A/Users/Sean/Desktop/ATU/Sem%204/Machine%20Learning%20and%20Statistics/MachineLearning-Statistics/tasks.ipynb#X20sZmlsZQ%3D%3D?line=1'>2</a>\u001b[0m \u001b[39mimport\u001b[39;00m \u001b[39mpandas\u001b[39;00m \u001b[39mas\u001b[39;00m \u001b[39mpd\u001b[39;00m\n\u001b[0;32m      <a href='vscode-notebook-cell:/c%3A/Users/Sean/Desktop/ATU/Sem%204/Machine%20Learning%20and%20Statistics/MachineLearning-Statistics/tasks.ipynb#X20sZmlsZQ%3D%3D?line=3'>4</a>\u001b[0m \u001b[39m# Statistics.\u001b[39;00m\n\u001b[0;32m      <a href='vscode-notebook-cell:/c%3A/Users/Sean/Desktop/ATU/Sem%204/Machine%20Learning%20and%20Statistics/MachineLearning-Statistics/tasks.ipynb#X20sZmlsZQ%3D%3D?line=4'>5</a>\u001b[0m \u001b[39mimport\u001b[39;00m \u001b[39mscipy\u001b[39;00m\u001b[39m.\u001b[39;00m\u001b[39mstats\u001b[39;00m \u001b[39mas\u001b[39;00m \u001b[39mss\u001b[39;00m\n",
      "\u001b[1;31mModuleNotFoundError\u001b[0m: No module named 'pandas'"
     ]
    }
   ],
   "source": [
    "# Data frames.\n",
    "import pandas as pd\n",
    "\n",
    "# Statistics.\n",
    "import scipy.stats as ss\n",
    "\n",
    "#for shuffling the data.\n",
    "import random\n"
   ]
  },
  {
   "cell_type": "markdown",
   "metadata": {},
   "source": [
    "## Task 1 \n",
    "Square roots are difficult to calculate. In Python, you typically use the power operator (a double asterisk) or a package such\n",
    "as 'math'. In this task,1 you should write a function 'sqrt(x)' to approximate the square root of a floating point number 'x' without using the power operator or a package.\n",
    "Rather, you should use 'Newton’s method'. Start with an initial guess for the square root called $z_0$. You then repeatedly improve it using the following formula, until the difference between some previous guess $z_i$ and the next $z_{i+1}$ is less than some threshold, say 0.01.\n",
    "\n",
    "$$z_{i+1} = z_i - \\frac{z_i * z_i - x}{2z_i} $$\n",
    "\n",
    "'*' denotes multiplication\n"
   ]
  },
  {
   "cell_type": "code",
   "execution_count": null,
   "metadata": {},
   "outputs": [],
   "source": [
    "# First attempt at writing code for square root \n",
    "def sqrt(x):\n",
    "  # First guess for square root.\n",
    "  z = x / 4.0\n",
    "  # create a loop that will run for a designated set number of times.\n",
    "  for i in range (1000):\n",
    "    z = z - (((z * z) - x) / (2 * z))\n",
    "# return z which should be a good approximation fo the square root.\n",
    "  return z"
   ]
  },
  {
   "cell_type": "code",
   "execution_count": null,
   "metadata": {},
   "outputs": [],
   "source": [
    "# test function created above.\n",
    "sqrt(15)"
   ]
  },
  {
   "cell_type": "code",
   "execution_count": null,
   "metadata": {},
   "outputs": [],
   "source": [
    "# test built in python function.\n",
    "15**0.5"
   ]
  },
  {
   "cell_type": "markdown",
   "metadata": {},
   "source": [
    "## References: \n",
    "\n",
    "https://medium.com/@shouke.wei/how-to-embed-an-image-size-and-align-it-in-the-jupyter-notebook-542a2e4e2c98 Date Accessed: 26/09/2023 19:42\n",
    "https://saturncloud.io/blog/how-to-position-embedded-images-in-jupyter-notebooks-using-markdown/ Date Accessed: 26/09/2023 19:47\n"
   ]
  },
  {
   "cell_type": "markdown",
   "metadata": {},
   "source": [
    "***\n",
    "\n",
    "## Task 2 \n",
    "\n",
    "Consider the below contingency table based on a survey asking respondents whether they prefer coffee or tea and whether they prefer plain or chocolate biscuits. \n",
    "Use scipy.stats to perform a chi-squared test to see whether there is any evidence of an association between drink preference and biscuit preference in this instance.\n"
   ]
  },
  {
   "cell_type": "code",
   "execution_count": null,
   "metadata": {},
   "outputs": [],
   "source": [
    "# Create the data represented in the tabnle so that it can be fed into the program.\n",
    "\n",
    "coffee_choc = [['Coffee','Chocolate']] * 43\n",
    "coffee_plain = [['Coffee','Plain']] * 57\n",
    "tea_choc = [['Tea','Chocolate']] * 56\n",
    "tea_plain = [['Tea','Plain ']] * 45\n",
    "\n",
    "#store the 4 value sets above in 1 variable 'data'.\n",
    "data = coffee_choc + coffee_plain + tea_choc + tea_plain"
   ]
  },
  {
   "cell_type": "code",
   "execution_count": null,
   "metadata": {},
   "outputs": [],
   "source": [
    "#shuffle the way the data appears in the dataset, but doesnt alter the results - ensures that the data doesnt look contrived.\n",
    "random.shuffle(data)"
   ]
  },
  {
   "cell_type": "code",
   "execution_count": null,
   "metadata": {},
   "outputs": [],
   "source": [
    "drink, biscuit = list(zip(*data))\n",
    "\n",
    "drink, biscuit"
   ]
  },
  {
   "cell_type": "code",
   "execution_count": null,
   "metadata": {},
   "outputs": [],
   "source": [
    "# create dataframe \n",
    "df = pd.DataFrame({'drink': drink, 'biscuit': biscuit})"
   ]
  }
 ],
 "metadata": {
  "kernelspec": {
   "display_name": "base",
   "language": "python",
   "name": "python3"
  },
  "language_info": {
   "codemirror_mode": {
    "name": "ipython",
    "version": 3
   },
   "file_extension": ".py",
   "mimetype": "text/x-python",
   "name": "python",
   "nbconvert_exporter": "python",
   "pygments_lexer": "ipython3",
   "version": "3.11.3"
  },
  "orig_nbformat": 4
 },
 "nbformat": 4,
 "nbformat_minor": 2
}
