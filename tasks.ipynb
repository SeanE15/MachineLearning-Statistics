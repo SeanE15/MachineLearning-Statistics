{
 "cells": [
  {
   "cell_type": "markdown",
   "metadata": {},
   "source": [
    "<p align=\"center\">\n",
    "  <img src=\"https://www.edvancer.in/wp-content/uploads/2016/01/ML-vs.-stats1.png\" \n",
    "</p>\n",
    "\n",
    "## <div align=\"center\">Machine Learning and Statistics: Tasks</div>\n",
    "### <div align=\"center\">Author: Sean Elliott</div>\n",
    "\n",
    "----"
   ]
  },
  {
   "cell_type": "code",
   "execution_count": 1,
   "metadata": {},
   "outputs": [],
   "source": [
    "# Data frames.\n",
    "import pandas as pd\n",
    "\n",
    "# Statistics.\n",
    "import scipy.stats as ss\n",
    "\n",
    "#for shuffling the data.\n",
    "import random\n",
    "\n",
    "#numerical arrays.\n",
    "import numpy as np\n",
    "\n",
    "import seaborn as sns\n",
    "\n",
    "import matplotlib.pyplot as plt\n",
    "\n",
    "from sklearn.inspection import DecisionBoundaryDisplay\n",
    "\n",
    "from sklearn.linear_model import LogisticRegression\n",
    "\n",
    "from sklearn.naive_bayes import GaussianNB\n",
    "\n",
    "from sklearn.datasets import load_iris\n",
    "\n",
    "from sklearn.model_selection import cross_val_score, KFold\n",
    "\n",
    "from sklearn.tree import DecisionTreeClassifier\n",
    "\n",
    "from sklearn.preprocessing import StandardScaler\n",
    "\n",
    "from sklearn.decomposition import PCA\n"
   ]
  },
  {
   "cell_type": "markdown",
   "metadata": {},
   "source": [
    "<p align=\"center\"><img src=\"https://ars.els-cdn.com/content/image/3-s2.0-B9780128150658000236-gr017.jpg\"</p>\n",
    "\n",
    "## <p align=\"center\">Task 1</p> \n",
    "\n",
    "\n",
    "Square roots are difficult to calculate. In Python, you typically use the power operator (a double asterisk) or a package such\n",
    "as 'math'. In this task,1 you should write a function 'sqrt(x)' to approximate the square root of a floating point number 'x' without using the power operator or a package.\n",
    "Rather, you should use 'Newton’s method'. Start with an initial guess for the square root called $z_0$. You then repeatedly improve it using the following formula, until the difference between some previous guess $z_i$ and the next $z_{i+1}$ is less than some threshold, say 0.01.\n",
    "\n",
    "$$z_{i+1} = z_i - \\frac{z_i * z_i - x}{2z_i} $$\n",
    "\n",
    "'*' denotes multiplication\n"
   ]
  },
  {
   "cell_type": "markdown",
   "metadata": {},
   "source": [
    "Newtons Method\n",
    "\n",
    "Newtons Method (also known as Newton Raphson Method) is an iterative process that can approximate the solutions to an equation with good accuracy. Its main uses is as a method to approximate numerical solutions to equations that are too difficult to solve by hand.\n",
    "\n"
   ]
  },
  {
   "cell_type": "code",
   "execution_count": 2,
   "metadata": {},
   "outputs": [],
   "source": [
    "# First attempt at writing code for square root \n",
    "def sqrt(x):\n",
    "  # First guess for square root.\n",
    "  z = x / 4.0\n",
    "  # create a loop that will run for a designated set number of times.\n",
    "  for i in range (1000):\n",
    "    z = z - (((z * z) - x) / (2 * z))\n",
    "# return z which should be a good approximation fo the square root.\n",
    "  return z"
   ]
  },
  {
   "cell_type": "code",
   "execution_count": 3,
   "metadata": {},
   "outputs": [
    {
     "data": {
      "text/plain": [
       "3.8729833462074166"
      ]
     },
     "execution_count": 3,
     "metadata": {},
     "output_type": "execute_result"
    }
   ],
   "source": [
    "# test function created above.\n",
    "sqrt(15)"
   ]
  },
  {
   "cell_type": "code",
   "execution_count": 4,
   "metadata": {},
   "outputs": [
    {
     "data": {
      "text/plain": [
       "3.872983346207417"
      ]
     },
     "execution_count": 4,
     "metadata": {},
     "output_type": "execute_result"
    }
   ],
   "source": [
    "# test built in python function.\n",
    "15**0.5"
   ]
  },
  {
   "cell_type": "markdown",
   "metadata": {},
   "source": [
    "-----\n",
    "\n",
    "## References: \n",
    "\n",
    "https://medium.com/@shouke.wei/how-to-embed-an-image-size-and-align-it-in-the-jupyter-notebook-542a2e4e2c98 Date Accessed: 26/09/2023 19:42\n",
    "\n",
    "https://saturncloud.io/blog/how-to-position-embedded-images-in-jupyter-notebooks-using-markdown/ Date Accessed: 26/09/2023 19:47\n",
    "\n",
    "https://calcworkshop.com/derivatives/newtons-method/#:~:text=Newton's%20Method%2C%20also%20known%20as,us%20to%20solve%20by%20hand. Date Accessed: 29/10/2023 12:47\n",
    "\n",
    "https://en.wikipedia.org/wiki/Newton%27s_method Date Accessed: 29/10/2023 11:30\n",
    "\n"
   ]
  },
  {
   "cell_type": "markdown",
   "metadata": {},
   "source": [
    "***\n",
    "\n",
    "<p align=\"center\"><img src=\"https://www.veganfoodandliving.com/wp-content/uploads/2022/02/Best-vegan-biscuits-uk.jpg\"</p>\n",
    "\n",
    "## <p align=\"center\"> Task 2</p> \n",
    "\n",
    "Consider the below contingency table based on a survey asking respondents whether they prefer coffee or tea and whether they prefer plain or chocolate biscuits. \n",
    "Use scipy.stats to perform a chi-squared test to see whether there is any evidence of an association between drink preference and biscuit preference in this instance.\n"
   ]
  },
  {
   "cell_type": "markdown",
   "metadata": {},
   "source": [
    "We will start this project by first defining what the Chi-Squared Test is; and what it's correct uses are.\n",
    "The LaTeX notation for the Chi-Squared Test is as follows:\n",
    "\n",
    "\n",
    "$$\\chi^2 = \\sum \\frac {(O - E)^2}{E}$$\n",
    "\n",
    "----\n",
    "\n",
    "<p><div align=\"center\">The break down of the above values:</div></p>\n",
    "\n",
    "\n",
    "$$\\chi^2$$ \n",
    "<div align=\"center\">the chi-square test statistic</div>\n",
    "\n",
    "\n",
    "$$\\sum $$  \n",
    "<div align=\"center\">the summation operator (meaning find the sum of)</div>\n",
    "\n",
    "\n",
    "$$ O $$\n",
    "<div align=\"center\">the observed frequency value</div>\n",
    "\n",
    "\n",
    "$$ E $$ \n",
    "<div align=\"center\">the expected frequency value</div>\n",
    "\n",
    "----\n",
    "\n",
    "The idea behind the Chi-squared test is a simple one: the test is used to compare 'actual' data values with what would be 'expected' if the null hypothesis is true. The test involves finding the squared difference between the actual results and the expected results and then dividing that difference by the expected data results.\n",
    "The purpose of this test is to determine if a difference between observed data and expected data is due to chance, or if it is due to a relationship between the variables being analysed.\n",
    "\n",
    "The Chi Squared Test was first developed by Karl Pearson in 1990. He created the Chi Squared Test (amonungst other tests) in order to debunk a common misconception in the biological data anaysis field of the time. A common assumption amoungst researchers was that biological data tended towards a Normal Distirbution. Pearson disputed this, noting a significant skewness to certain datasets - which drove him to develop a set of statistical analysis tests which would more accurately find out how well a model fit into an observation - this time taking their skewness into consideration in the final result."
   ]
  },
  {
   "cell_type": "code",
   "execution_count": 5,
   "metadata": {},
   "outputs": [],
   "source": [
    "# Create the data represented in the tabnle so that it can be fed into the program.\n",
    "\n",
    "coffee_choc = [['Coffee','Chocolate']] * 43\n",
    "coffee_plain = [['Coffee','Plain']] * 57\n",
    "tea_choc = [['Tea','Chocolate']] * 56\n",
    "tea_plain = [['Tea','Plain']] * 45\n",
    "\n",
    "#store the 4 value sets above in 1 variable 'data'.\n",
    "data = coffee_choc + coffee_plain + tea_choc + tea_plain"
   ]
  },
  {
   "cell_type": "code",
   "execution_count": 6,
   "metadata": {},
   "outputs": [],
   "source": [
    "# shuffle the way the data appears in the dataset, but doesnt alter the results - ensures that the data doesnt look contrived.\n",
    "random.shuffle(data)"
   ]
  },
  {
   "cell_type": "code",
   "execution_count": 7,
   "metadata": {},
   "outputs": [],
   "source": [
    "# zip the data\n",
    "drink, biscuit = list(zip(*data))"
   ]
  },
  {
   "cell_type": "code",
   "execution_count": 8,
   "metadata": {},
   "outputs": [
    {
     "data": {
      "text/html": [
       "<div>\n",
       "<style scoped>\n",
       "    .dataframe tbody tr th:only-of-type {\n",
       "        vertical-align: middle;\n",
       "    }\n",
       "\n",
       "    .dataframe tbody tr th {\n",
       "        vertical-align: top;\n",
       "    }\n",
       "\n",
       "    .dataframe thead th {\n",
       "        text-align: right;\n",
       "    }\n",
       "</style>\n",
       "<table border=\"1\" class=\"dataframe\">\n",
       "  <thead>\n",
       "    <tr style=\"text-align: right;\">\n",
       "      <th></th>\n",
       "      <th>drink</th>\n",
       "      <th>biscuit</th>\n",
       "    </tr>\n",
       "  </thead>\n",
       "  <tbody>\n",
       "    <tr>\n",
       "      <th>0</th>\n",
       "      <td>Coffee</td>\n",
       "      <td>Plain</td>\n",
       "    </tr>\n",
       "    <tr>\n",
       "      <th>1</th>\n",
       "      <td>Tea</td>\n",
       "      <td>Plain</td>\n",
       "    </tr>\n",
       "    <tr>\n",
       "      <th>2</th>\n",
       "      <td>Tea</td>\n",
       "      <td>Plain</td>\n",
       "    </tr>\n",
       "    <tr>\n",
       "      <th>3</th>\n",
       "      <td>Coffee</td>\n",
       "      <td>Plain</td>\n",
       "    </tr>\n",
       "    <tr>\n",
       "      <th>4</th>\n",
       "      <td>Coffee</td>\n",
       "      <td>Plain</td>\n",
       "    </tr>\n",
       "  </tbody>\n",
       "</table>\n",
       "</div>"
      ],
      "text/plain": [
       "    drink biscuit\n",
       "0  Coffee   Plain\n",
       "1     Tea   Plain\n",
       "2     Tea   Plain\n",
       "3  Coffee   Plain\n",
       "4  Coffee   Plain"
      ]
     },
     "execution_count": 8,
     "metadata": {},
     "output_type": "execute_result"
    }
   ],
   "source": [
    "# create dataframe \n",
    "df = pd.DataFrame({'drink': drink, 'biscuit': biscuit})\n",
    "\n",
    "#print out datafarme to ensure running as expected.\n",
    "df.head(5)\n"
   ]
  },
  {
   "cell_type": "code",
   "execution_count": 9,
   "metadata": {},
   "outputs": [
    {
     "data": {
      "text/plain": [
       "CrosstabResult(elements=(array(['Coffee', 'Tea'], dtype=object), array(['Chocolate', 'Plain'], dtype=object)), count=array([[43, 57],\n",
       "       [56, 45]]))"
      ]
     },
     "execution_count": 9,
     "metadata": {},
     "output_type": "execute_result"
    }
   ],
   "source": [
    "# create a contingency table of 'drinks' against 'biscuits' using data from the dataframe\n",
    "cross = ss.contingency.crosstab(df['drink'], df['biscuit'])\n",
    "\n",
    "# Show.\n",
    "cross"
   ]
  },
  {
   "cell_type": "code",
   "execution_count": 10,
   "metadata": {},
   "outputs": [
    {
     "data": {
      "text/plain": [
       "(array(['Coffee', 'Tea'], dtype=object),\n",
       " array(['Chocolate', 'Plain'], dtype=object))"
      ]
     },
     "execution_count": 10,
     "metadata": {},
     "output_type": "execute_result"
    }
   ],
   "source": [
    "# organise data within dataset for easy manipulation.\n",
    "first, second = cross.elements\n",
    "\n",
    "# Show arrays \n",
    "first, second"
   ]
  },
  {
   "cell_type": "code",
   "execution_count": 11,
   "metadata": {},
   "outputs": [
    {
     "data": {
      "text/plain": [
       "array([[43, 57],\n",
       "       [56, 45]])"
      ]
     },
     "execution_count": 11,
     "metadata": {},
     "output_type": "execute_result"
    }
   ],
   "source": [
    "# count the values of the table - as shown in the randomly generated dataframe above.\n",
    "cross.count "
   ]
  },
  {
   "cell_type": "code",
   "execution_count": 12,
   "metadata": {},
   "outputs": [
    {
     "data": {
      "text/plain": [
       "Chi2ContingencyResult(statistic=3.113937364324669, pvalue=0.07762509678333357, dof=1, expected_freq=array([[49.25373134, 50.74626866],\n",
       "       [49.74626866, 51.25373134]]))"
      ]
     },
     "execution_count": 12,
     "metadata": {},
     "output_type": "execute_result"
    }
   ],
   "source": [
    "# perform the chi squared test of independence on the table and store the finds in the variable 'result'.\n",
    "result = ss.chi2_contingency(cross.count, correction=False)\n",
    "\n",
    "# Show.\n",
    "result"
   ]
  },
  {
   "cell_type": "code",
   "execution_count": 13,
   "metadata": {},
   "outputs": [
    {
     "data": {
      "text/plain": [
       "array([[49.25373134, 50.74626866],\n",
       "       [49.74626866, 51.25373134]])"
      ]
     },
     "execution_count": 13,
     "metadata": {},
     "output_type": "execute_result"
    }
   ],
   "source": [
    "# The expected fequencies from the reults variable.\n",
    "result.expected_freq"
   ]
  },
  {
   "cell_type": "code",
   "execution_count": 14,
   "metadata": {},
   "outputs": [
    {
     "data": {
      "text/plain": [
       "array([[-6.25373134,  6.25373134],\n",
       "       [ 6.25373134, -6.25373134]])"
      ]
     },
     "execution_count": 14,
     "metadata": {},
     "output_type": "execute_result"
    }
   ],
   "source": [
    "# display the difference between the observed frequencies and the expected frequencies.\n",
    "cross.count - result.expected_freq"
   ]
  },
  {
   "cell_type": "code",
   "execution_count": 15,
   "metadata": {},
   "outputs": [
    {
     "data": {
      "text/plain": [
       "array([[39.10915571, 39.10915571],\n",
       "       [39.10915571, 39.10915571]])"
      ]
     },
     "execution_count": 15,
     "metadata": {},
     "output_type": "execute_result"
    }
   ],
   "source": [
    "#square the differences between the observed and the expected frequencies.\n",
    "(cross.count - result.expected_freq)**2"
   ]
  },
  {
   "cell_type": "code",
   "execution_count": 16,
   "metadata": {},
   "outputs": [
    {
     "data": {
      "text/plain": [
       "array([[0.79403437, 0.77068042],\n",
       "       [0.78617265, 0.76304992]])"
      ]
     },
     "execution_count": 16,
     "metadata": {},
     "output_type": "execute_result"
    }
   ],
   "source": [
    "# divide the squared values into the result of the expected frquencies. This 'normalises' the values.\n",
    "(cross.count - result.expected_freq)**2 / result.expected_freq"
   ]
  },
  {
   "cell_type": "code",
   "execution_count": 17,
   "metadata": {},
   "outputs": [
    {
     "data": {
      "text/plain": [
       "3.113937364324669"
      ]
     },
     "execution_count": 17,
     "metadata": {},
     "output_type": "execute_result"
    }
   ],
   "source": [
    "# print the sum of all the normalised squared differences which represents the toal chi-squared statistics. This single number represents the discrepancy between the observed and expercted counts.\n",
    "((cross.count - result.expected_freq)**2 / result.expected_freq).sum()"
   ]
  },
  {
   "cell_type": "markdown",
   "metadata": {},
   "source": [
    "So, what do we do with all of this information you ask? And how is it relevant?\n",
    "Basically we are now taking the numbers our program has provided us with, and using them to either prove or disprove the null hypothesis. We start by adding all of our values.\n",
    "\n",
    "<div align=\"center\">0.79403437 + 0.77068042 + 0.78617265 + 0.76304992 = 3.113937364324669</div>\n",
    "\n",
    "Now we take into consideration our degree of freedom (being 1). \n",
    "The formula for counting this is below: \n",
    "\n",
    "<div align=\"center\">Degrees of Freedom = (number of rows − 1) × ( number of columns − 1)</div>\n",
    "\n",
    "<p><div align=\"center\">DF = (2-1) X (2-1) = 1</div></p>\n",
    "\n",
    "We now use a Chi Squared Distribution table to find out the critical value of Chi Squared, which is 3.841. With 0.05 as our alpha value (standardised value) and 1 being our degrees of Freedom value - as our calculation of 3.114 is lower than 3.841; we can thus assume that the the observed frequencies are not different from the expected frequencies; thus confirming the null hypothesis meaning that the results are not significant and that there is no link between hot beverage choice and biscuit choice.\n",
    "\n",
    "<p align=\"center\"><img src=\"https://www.scribbr.com/wp-content/uploads/2022/05/chi-square-distribution-table-critical-value.png\"</p>"
   ]
  },
  {
   "cell_type": "markdown",
   "metadata": {},
   "source": [
    "-----\n",
    "\n",
    "## References: \n",
    "\n",
    "https://people.smp.uq.edu.au/YoniNazarathy/stat_models_B_course_spring_07/distributions/chisqtab.pdf - Date Accessed 28/10/23"
   ]
  },
  {
   "cell_type": "markdown",
   "metadata": {},
   "source": [
    "*** \n",
    "\n",
    "<p align=\"center\"><img src=\"https://www.gabemednick.com/post/penguin/featured.png\"</p>\n",
    "\n",
    "## <div align=\"center\"> Task 3 </div>\n",
    "\n",
    "Perform a t-test on the famous penguins data set to investigate whether there is evidence of a significant difference in the body mass of male and female gentoo penguins.\n"
   ]
  },
  {
   "cell_type": "code",
   "execution_count": 18,
   "metadata": {},
   "outputs": [
    {
     "data": {
      "text/html": [
       "<div>\n",
       "<style scoped>\n",
       "    .dataframe tbody tr th:only-of-type {\n",
       "        vertical-align: middle;\n",
       "    }\n",
       "\n",
       "    .dataframe tbody tr th {\n",
       "        vertical-align: top;\n",
       "    }\n",
       "\n",
       "    .dataframe thead th {\n",
       "        text-align: right;\n",
       "    }\n",
       "</style>\n",
       "<table border=\"1\" class=\"dataframe\">\n",
       "  <thead>\n",
       "    <tr style=\"text-align: right;\">\n",
       "      <th></th>\n",
       "      <th>species</th>\n",
       "      <th>island</th>\n",
       "      <th>bill_length_mm</th>\n",
       "      <th>bill_depth_mm</th>\n",
       "      <th>flipper_length_mm</th>\n",
       "      <th>body_mass_g</th>\n",
       "      <th>sex</th>\n",
       "    </tr>\n",
       "  </thead>\n",
       "  <tbody>\n",
       "    <tr>\n",
       "      <th>0</th>\n",
       "      <td>Adelie</td>\n",
       "      <td>Torgersen</td>\n",
       "      <td>39.1</td>\n",
       "      <td>18.7</td>\n",
       "      <td>181.0</td>\n",
       "      <td>3750.0</td>\n",
       "      <td>MALE</td>\n",
       "    </tr>\n",
       "    <tr>\n",
       "      <th>1</th>\n",
       "      <td>Adelie</td>\n",
       "      <td>Torgersen</td>\n",
       "      <td>39.5</td>\n",
       "      <td>17.4</td>\n",
       "      <td>186.0</td>\n",
       "      <td>3800.0</td>\n",
       "      <td>FEMALE</td>\n",
       "    </tr>\n",
       "    <tr>\n",
       "      <th>2</th>\n",
       "      <td>Adelie</td>\n",
       "      <td>Torgersen</td>\n",
       "      <td>40.3</td>\n",
       "      <td>18.0</td>\n",
       "      <td>195.0</td>\n",
       "      <td>3250.0</td>\n",
       "      <td>FEMALE</td>\n",
       "    </tr>\n",
       "    <tr>\n",
       "      <th>3</th>\n",
       "      <td>Adelie</td>\n",
       "      <td>Torgersen</td>\n",
       "      <td>NaN</td>\n",
       "      <td>NaN</td>\n",
       "      <td>NaN</td>\n",
       "      <td>NaN</td>\n",
       "      <td>NaN</td>\n",
       "    </tr>\n",
       "    <tr>\n",
       "      <th>4</th>\n",
       "      <td>Adelie</td>\n",
       "      <td>Torgersen</td>\n",
       "      <td>36.7</td>\n",
       "      <td>19.3</td>\n",
       "      <td>193.0</td>\n",
       "      <td>3450.0</td>\n",
       "      <td>FEMALE</td>\n",
       "    </tr>\n",
       "    <tr>\n",
       "      <th>...</th>\n",
       "      <td>...</td>\n",
       "      <td>...</td>\n",
       "      <td>...</td>\n",
       "      <td>...</td>\n",
       "      <td>...</td>\n",
       "      <td>...</td>\n",
       "      <td>...</td>\n",
       "    </tr>\n",
       "    <tr>\n",
       "      <th>339</th>\n",
       "      <td>Gentoo</td>\n",
       "      <td>Biscoe</td>\n",
       "      <td>NaN</td>\n",
       "      <td>NaN</td>\n",
       "      <td>NaN</td>\n",
       "      <td>NaN</td>\n",
       "      <td>NaN</td>\n",
       "    </tr>\n",
       "    <tr>\n",
       "      <th>340</th>\n",
       "      <td>Gentoo</td>\n",
       "      <td>Biscoe</td>\n",
       "      <td>46.8</td>\n",
       "      <td>14.3</td>\n",
       "      <td>215.0</td>\n",
       "      <td>4850.0</td>\n",
       "      <td>FEMALE</td>\n",
       "    </tr>\n",
       "    <tr>\n",
       "      <th>341</th>\n",
       "      <td>Gentoo</td>\n",
       "      <td>Biscoe</td>\n",
       "      <td>50.4</td>\n",
       "      <td>15.7</td>\n",
       "      <td>222.0</td>\n",
       "      <td>5750.0</td>\n",
       "      <td>MALE</td>\n",
       "    </tr>\n",
       "    <tr>\n",
       "      <th>342</th>\n",
       "      <td>Gentoo</td>\n",
       "      <td>Biscoe</td>\n",
       "      <td>45.2</td>\n",
       "      <td>14.8</td>\n",
       "      <td>212.0</td>\n",
       "      <td>5200.0</td>\n",
       "      <td>FEMALE</td>\n",
       "    </tr>\n",
       "    <tr>\n",
       "      <th>343</th>\n",
       "      <td>Gentoo</td>\n",
       "      <td>Biscoe</td>\n",
       "      <td>49.9</td>\n",
       "      <td>16.1</td>\n",
       "      <td>213.0</td>\n",
       "      <td>5400.0</td>\n",
       "      <td>MALE</td>\n",
       "    </tr>\n",
       "  </tbody>\n",
       "</table>\n",
       "<p>344 rows × 7 columns</p>\n",
       "</div>"
      ],
      "text/plain": [
       "    species     island  bill_length_mm  bill_depth_mm  flipper_length_mm  \\\n",
       "0    Adelie  Torgersen            39.1           18.7              181.0   \n",
       "1    Adelie  Torgersen            39.5           17.4              186.0   \n",
       "2    Adelie  Torgersen            40.3           18.0              195.0   \n",
       "3    Adelie  Torgersen             NaN            NaN                NaN   \n",
       "4    Adelie  Torgersen            36.7           19.3              193.0   \n",
       "..      ...        ...             ...            ...                ...   \n",
       "339  Gentoo     Biscoe             NaN            NaN                NaN   \n",
       "340  Gentoo     Biscoe            46.8           14.3              215.0   \n",
       "341  Gentoo     Biscoe            50.4           15.7              222.0   \n",
       "342  Gentoo     Biscoe            45.2           14.8              212.0   \n",
       "343  Gentoo     Biscoe            49.9           16.1              213.0   \n",
       "\n",
       "     body_mass_g     sex  \n",
       "0         3750.0    MALE  \n",
       "1         3800.0  FEMALE  \n",
       "2         3250.0  FEMALE  \n",
       "3            NaN     NaN  \n",
       "4         3450.0  FEMALE  \n",
       "..           ...     ...  \n",
       "339          NaN     NaN  \n",
       "340       4850.0  FEMALE  \n",
       "341       5750.0    MALE  \n",
       "342       5200.0  FEMALE  \n",
       "343       5400.0    MALE  \n",
       "\n",
       "[344 rows x 7 columns]"
      ]
     },
     "execution_count": 18,
     "metadata": {},
     "output_type": "execute_result"
    }
   ],
   "source": [
    "#Load penguins csv file.\n",
    "url = 'https://raw.githubusercontent.com/mwaskom/seaborn-data/master/penguins.csv'\n",
    "df = pd.read_csv(url)\n",
    "df"
   ]
  },
  {
   "cell_type": "code",
   "execution_count": 19,
   "metadata": {},
   "outputs": [],
   "source": [
    "# Gentoo Male Samples   \n",
    "male = df[(df['species'] == 'Gentoo') & (df['sex'] == 'MALE')][['body_mass_g']].to_numpy()"
   ]
  },
  {
   "cell_type": "code",
   "execution_count": 20,
   "metadata": {},
   "outputs": [],
   "source": [
    "# Gentoo Female Samples\n",
    "female = df[(df['species'] == 'Gentoo') & (df['sex'] == 'FEMALE')][['body_mass_g']].to_numpy()"
   ]
  },
  {
   "cell_type": "code",
   "execution_count": 21,
   "metadata": {},
   "outputs": [
    {
     "data": {
      "text/plain": [
       "Ttest_indResult(statistic=array([14.72167648]), pvalue=array([2.1336876e-28]))"
      ]
     },
     "execution_count": 21,
     "metadata": {},
     "output_type": "execute_result"
    }
   ],
   "source": [
    "# Perform t-test using built-in function.\n",
    "ss.ttest_ind(male, female)"
   ]
  },
  {
   "cell_type": "markdown",
   "metadata": {},
   "source": [
    "## Results \n",
    "\n",
    "The Statistic result is a measurement of how many standard deviations the two samples are apart. In the above test I got a statistic value of 14.72167648.  This highlights that the t-statistic is 14.72 times bigger than what could be expected by 'random chance' - showing that it is highly likely that based off the two samples tested, there is a significant difference between the two. ie. they could not be confused for one another or there is very little (if any) overlap between the two samples to be found in the data collected.\n",
    "\n",
    "The P-Value result is the measure of how 'unusual' the result is. If a P-Value is small, it means that one of the test samples couldnt possibly be compared correctly to the other (or rather mixed up with them). If the p-value is large it means that the result isnt that 'unusual' and so one might conclude that the two samples could be mixed up. In other words, the p-value tells us if the data we have observed is suprising to see assuming a certain assumption (that it is a fair test/dataset).\n",
    "\n",
    "Given that the two values are so drastically spread apart from each other (statistic reult being large and p-value being small) it is very likely that the means of the two samples are significantly different - this test is evidence that there is a significant difference between the Male and Female Gentoo penguin's body mass."
   ]
  },
  {
   "cell_type": "markdown",
   "metadata": {},
   "source": [
    "***\n",
    "\n",
    "## References:\n",
    "\n",
    "- Date Accessed: 24/10/2023 https://www.kaggle.com/code/theerachodsepdham/data-analysis-using-python"
   ]
  },
  {
   "cell_type": "markdown",
   "metadata": {},
   "source": [
    "-----\n",
    "\n",
    "<p align=\"center\"><img src=\"https://camo.githubusercontent.com/bb83e831a860664959470e38c56bdce981c84687eafe04346d112be09a8c0227/68747470733a2f2f692e696d6775722e636f6d2f505171594761572e706e67\"</p>\n",
    "\n",
    "## <p align=\"center\"> Task 4 </p>\n",
    "\n",
    "Using the famous iris data set, suggest whether the setosa class is easily separable from the other two classes. Provide evidence for your answer.\n",
    "\n",
    "I start by performing a Logistic Regression test on the data - focusing on the Sepal Length and Sepal Width measurements. I then plot a scatterplot to show these results - note that the Setosa(Purple colour dots) are clearly distinguishable from the other two species."
   ]
  },
  {
   "cell_type": "code",
   "execution_count": 22,
   "metadata": {},
   "outputs": [
    {
     "data": {
      "image/png": "[encoded data removed]",
      "text/plain": [
       "<Figure size 640x480 with 1 Axes>"
      ]
     },
     "metadata": {},
     "output_type": "display_data"
    }
   ],
   "source": [
    "## code taken from: https://scikit-learn.org/stable/modules/generated/sklearn.inspection.DecisionBoundaryDisplay.html Date Accessed: 17/11/2023\n",
    "iris = load_iris()\n",
    "# elect the first two datapoint headers from the dataset for comparison\n",
    "X = iris.data[:, :2]\n",
    "# use logistic regression to divide the three types of flower.\n",
    "classifier = LogisticRegression().fit(X, iris.target)\n",
    "# use a built in Decision Boundary function to seperate the three flower species.\n",
    "disp = DecisionBoundaryDisplay.from_estimator(\n",
    "     classifier, X, response_method=\"predict\",\n",
    "     xlabel=iris.feature_names[0], ylabel=iris.feature_names[1], alpha=0.5)\n",
    "# plot a scatterplot.\n",
    "scatter = disp.ax_.scatter(X[:, 0], X[:, 1], c=iris.target, edgecolor=\"k\", label=iris.target_names)\n",
    "# Add legend to output scatterplot \n",
    "disp.ax_.legend()\n",
    "plt.show()"
   ]
  },
  {
   "cell_type": "markdown",
   "metadata": {},
   "source": [
    "As we can see from the above scatter plot, which utilises the decision boundary display function; the Setosa flower can be easily distinguished from the Versicolour and Virginica species, where Sepal Length and Sepal Width are concerned.  We note that the Setosa's Sepal length measurement is very tight or bunched together around the 5cm in length measurement, compared to the other two species; whose measurements are more scattered (and larger than the Setosa). The same cannot be said for the Sepal Width of the Setosa - which falls into the same average measurement as the other two species."
   ]
  },
  {
   "cell_type": "code",
   "execution_count": 23,
   "metadata": {},
   "outputs": [
    {
     "data": {
      "image/png": "[encoded data removed]",
      "text/plain": [
       "<Figure size 640x480 with 1 Axes>"
      ]
     },
     "metadata": {},
     "output_type": "display_data"
    }
   ],
   "source": [
    "X = iris.data[:, [2,3]]\n",
    "classifier = LogisticRegression().fit(X, iris.target)\n",
    "# use a built in Decision Boundary function to seperate the three flower species.\n",
    "disp = DecisionBoundaryDisplay.from_estimator(\n",
    "     classifier, X, response_method=\"predict\",\n",
    "     xlabel=iris.feature_names[2], ylabel=iris.feature_names[3], alpha=0.5)\n",
    "# plot a scatterplot.\n",
    "scatter = disp.ax_.scatter(X[:, 0], X[:, 1], c=iris.target, edgecolor=\"k\", label=iris.target_names)\n",
    "# Add legend to output scatterplot \n",
    "disp.ax_.legend()\n",
    "plt.show()"
   ]
  },
  {
   "cell_type": "markdown",
   "metadata": {},
   "source": [
    "Above we see the same style of scatterplot - this time comparing Petal Length and Petal Width; with the same outcome. The Versicolor and Virginica are tightly bunched together with the Setosa easily distinguishable with shorter petal length and width."
   ]
  },
  {
   "cell_type": "code",
   "execution_count": 24,
   "metadata": {},
   "outputs": [
    {
     "name": "stdout",
     "output_type": "stream",
     "text": [
      "Cross-validated Accuracy: 90.00% (+/- 20.66%)\n"
     ]
    }
   ],
   "source": [
    "# code taken from https://scikit-learn.org/stable/modules/cross_validation.html Date Accessed: 17/11/2023\n",
    "X, y = iris.data, iris.target\n",
    "\n",
    "# Scale the features\n",
    "scaler = StandardScaler()\n",
    "X_scaled = scaler.fit_transform(X)\n",
    "\n",
    "# Create a LogisticRegression model with increased max_iter\n",
    "clf = LogisticRegression(random_state=42, max_iter=1000) \n",
    "\n",
    "# Define KFold\n",
    "k_folds = KFold(n_splits=5)\n",
    "\n",
    "# Perform cross-validation\n",
    "scores = cross_val_score(clf, X_scaled, y, cv=k_folds)\n",
    "\n",
    "# Print the results with accuracy as a percentage\n",
    "print(\"Cross-validated Accuracy: %.2f%% (+/- %.2f%%)\" % (scores.mean() * 100, scores.std() * 200))"
   ]
  },
  {
   "cell_type": "code",
   "execution_count": 25,
   "metadata": {},
   "outputs": [
    {
     "name": "stdout",
     "output_type": "stream",
     "text": [
      "Cross-validated Accuracy: 91.33% (+/- 16.65%)\n"
     ]
    }
   ],
   "source": [
    "# code taken from: https://www.w3schools.com/python/python_ml_cross_validation.asp#:~:text=We%20can%20observe%20that%20the,average%20CV%20score%20is%2094%25. Date Accessed: 17/11/2023\n",
    "\n",
    "# Create a DecisionTreeClassifier\n",
    "clf = DecisionTreeClassifier(random_state=42)\n",
    "\n",
    "# Define KFold\n",
    "k_folds = KFold(n_splits=5)\n",
    "\n",
    "# Perform cross-validation\n",
    "scores = cross_val_score(clf, X, y, cv=k_folds)\n",
    "\n",
    "# Print the results with accuracy as a percentage\n",
    "print(\"Cross-validated Accuracy: %.2f%% (+/- %.2f%%)\" % (scores.mean() * 100, scores.std() * 200))"
   ]
  },
  {
   "cell_type": "code",
   "execution_count": 26,
   "metadata": {},
   "outputs": [
    {
     "name": "stdout",
     "output_type": "stream",
     "text": [
      "Cross-validated Accuracy: 94.67% (+/- 6.80%)\n"
     ]
    }
   ],
   "source": [
    "# Scale the features\n",
    "scaler = StandardScaler()\n",
    "X_scaled = scaler.fit_transform(X)\n",
    "\n",
    "# Create a Gaussian Naive Bayes model\n",
    "clf = GaussianNB()\n",
    "\n",
    "# Define KFold\n",
    "k_folds = KFold(n_splits=5)\n",
    "\n",
    "# Perform cross-validation\n",
    "scores = cross_val_score(clf, X_scaled, y, cv=k_folds)\n",
    "\n",
    "# Print the results with accuracy as a percentage\n",
    "print(\"Cross-validated Accuracy: %.2f%% (+/- %.2f%%)\" % (scores.mean() * 100, scores.std() * 200))"
   ]
  },
  {
   "cell_type": "markdown",
   "metadata": {},
   "source": [
    "Above I look at the cross validation scores for the accuracy of the different machine learning algorithms. My reason for choosing the algorithms that I did was because of the project we are completing alongside these tasks, I noted that Naive Bayes was particularly atuned to finding seperations and clearly defined differences between datapoints. I decided to apply Naive Bayes to the validation process, and I was pleasantly surprised to see that it out performed the other two algorithms quite significantly - with a 94.67% accuracy rating and a standard deviation score of only 6.8%."
   ]
  },
  {
   "cell_type": "markdown",
   "metadata": {},
   "source": [
    "----\n",
    "## References:\n",
    "\n",
    "https://notebook.community/datascienceguide/datascienceguide.github.io/tutorials/Naive-Bayes-Classification - Date Accessed 17/11/2023\n",
    "\n",
    "----"
   ]
  },
  {
   "cell_type": "markdown",
   "metadata": {},
   "source": [
    "<p align=\"center\"><img src=\"https://miro.medium.com/v2/resize:fit:1400/1*mgncZaKaVx9U6OCQu_m8Bg.jpeg\"</p>\n",
    "\n",
    "## <p align=\"center\"> Task 5 </p>\n",
    "\n",
    "Perform Principal Component Analysis on the iris data set, reducing the number of dimensions to two. Explain the purpose\n",
    "of the analysis and your results."
   ]
  },
  {
   "cell_type": "code",
   "execution_count": 27,
   "metadata": {},
   "outputs": [
    {
     "data": {
      "image/png": "[encoded data removed]",
      "text/plain": [
       "<Figure size 1000x600 with 1 Axes>"
      ]
     },
     "metadata": {},
     "output_type": "display_data"
    }
   ],
   "source": [
    "iris = load_iris()\n",
    "X = iris.data\n",
    "y = iris.target\n",
    "\n",
    "# Standardize the features\n",
    "X_standardized = StandardScaler().fit_transform(X)\n",
    "\n",
    "# Apply PCA to reduce dimensions to 2\n",
    "X_pca = PCA(n_components=2).fit_transform(X_standardized)\n",
    "\n",
    "# Create a DataFrame for visualization\n",
    "df_pca = pd.DataFrame(X_pca, columns=['PC1', 'PC2'])\n",
    "df_pca['Target'] = iris.target_names[y]\n",
    "\n",
    "# Plot the results\n",
    "plt.figure(figsize=(10, 6))\n",
    "for target in iris.target_names:\n",
    "    store = df_pca['Target'] == target\n",
    "    plt.scatter(df_pca.loc[store, 'PC1'], df_pca.loc[store, 'PC2'], label=target)\n",
    "\n",
    "plt.title('PCA of Iris Dataset')\n",
    "plt.xlabel('Principal Component 1')\n",
    "plt.ylabel('Principal Component 2')\n",
    "plt.legend()\n",
    "plt.show()\n"
   ]
  },
  {
   "cell_type": "markdown",
   "metadata": {},
   "source": [
    "References:\n",
    "\n",
    "https://www.simplilearn.com/tutorials/statistics-tutorial/chi-square-test Date Accessed: 17/10/2023\n",
    "\n",
    "https://ezspss.com/interpreting-chi-square-results-in-spss/ Dat Accessed: 17/10/2023\n",
    "\n",
    "https://www.scribbr.com/statistics/chi-square-tests/#when - Date Accessed: 16/10/2023\n"
   ]
  }
 ],
 "metadata": {
  "kernelspec": {
   "display_name": "base",
   "language": "python",
   "name": "python3"
  },
  "language_info": {
   "codemirror_mode": {
    "name": "ipython",
    "version": 3
   },
   "file_extension": ".py",
   "mimetype": "text/x-python",
   "name": "python",
   "nbconvert_exporter": "python",
   "pygments_lexer": "ipython3",
   "version": "3.10.9"
  },
  "orig_nbformat": 4
 },
 "nbformat": 4,
 "nbformat_minor": 2
}
