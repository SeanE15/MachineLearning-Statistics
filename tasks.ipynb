{
 "cells": [
  {
   "cell_type": "markdown",
   "metadata": {},
   "source": [
    "<p align=\"center\">\n",
    "  <img src=\"https://www.edvancer.in/wp-content/uploads/2016/01/ML-vs.-stats1.png\" \n",
    "</p>\n",
    "\n",
    "## <div align=\"center\">Machine Learning and Statistics: Tasks</div>\n",
    "### <div align=\"center\">Author: Sean Elliott</div>\n",
    "\n",
    "----"
   ]
  },
  {
   "cell_type": "code",
   "execution_count": 1,
   "metadata": {},
   "outputs": [],
   "source": [
    "# Data frames.\n",
    "import pandas as pd\n",
    "\n",
    "# Statistics.\n",
    "import scipy.stats as ss\n",
    "\n",
    "#for shuffling the data.\n",
    "import random\n"
   ]
  },
  {
   "cell_type": "markdown",
   "metadata": {},
   "source": [
    "## Task 1 \n",
    "Square roots are difficult to calculate. In Python, you typically use the power operator (a double asterisk) or a package such\n",
    "as 'math'. In this task,1 you should write a function 'sqrt(x)' to approximate the square root of a floating point number 'x' without using the power operator or a package.\n",
    "Rather, you should use 'Newton’s method'. Start with an initial guess for the square root called $z_0$. You then repeatedly improve it using the following formula, until the difference between some previous guess $z_i$ and the next $z_{i+1}$ is less than some threshold, say 0.01.\n",
    "\n",
    "$$z_{i+1} = z_i - \\frac{z_i * z_i - x}{2z_i} $$\n",
    "\n",
    "'*' denotes multiplication\n"
   ]
  },
  {
   "cell_type": "code",
   "execution_count": 2,
   "metadata": {},
   "outputs": [],
   "source": [
    "# First attempt at writing code for square root \n",
    "def sqrt(x):\n",
    "  # First guess for square root.\n",
    "  z = x / 4.0\n",
    "  # create a loop that will run for a designated set number of times.\n",
    "  for i in range (1000):\n",
    "    z = z - (((z * z) - x) / (2 * z))\n",
    "# return z which should be a good approximation fo the square root.\n",
    "  return z"
   ]
  },
  {
   "cell_type": "code",
   "execution_count": 3,
   "metadata": {},
   "outputs": [
    {
     "data": {
      "text/plain": [
       "3.8729833462074166"
      ]
     },
     "execution_count": 3,
     "metadata": {},
     "output_type": "execute_result"
    }
   ],
   "source": [
    "# test function created above.\n",
    "sqrt(15)"
   ]
  },
  {
   "cell_type": "code",
   "execution_count": 4,
   "metadata": {},
   "outputs": [
    {
     "data": {
      "text/plain": [
       "3.872983346207417"
      ]
     },
     "execution_count": 4,
     "metadata": {},
     "output_type": "execute_result"
    }
   ],
   "source": [
    "# test built in python function.\n",
    "15**0.5"
   ]
  },
  {
   "cell_type": "markdown",
   "metadata": {},
   "source": [
    "## References: \n",
    "\n",
    "https://medium.com/@shouke.wei/how-to-embed-an-image-size-and-align-it-in-the-jupyter-notebook-542a2e4e2c98 Date Accessed: 26/09/2023 19:42\n",
    "https://saturncloud.io/blog/how-to-position-embedded-images-in-jupyter-notebooks-using-markdown/ Date Accessed: 26/09/2023 19:47\n"
   ]
  },
  {
   "cell_type": "markdown",
   "metadata": {},
   "source": [
    "***\n",
    "\n",
    "## Task 2 \n",
    "\n",
    "Consider the below contingency table based on a survey asking respondents whether they prefer coffee or tea and whether they prefer plain or chocolate biscuits. \n",
    "Use scipy.stats to perform a chi-squared test to see whether there is any evidence of an association between drink preference and biscuit preference in this instance.\n"
   ]
  },
  {
   "cell_type": "code",
   "execution_count": 5,
   "metadata": {},
   "outputs": [],
   "source": [
    "# Create the data represented in the tabnle so that it can be fed into the program.\n",
    "\n",
    "coffee_choc = [['Coffee','Chocolate']] * 43\n",
    "coffee_plain = [['Coffee','Plain']] * 57\n",
    "tea_choc = [['Tea','Chocolate']] * 56\n",
    "tea_plain = [['Tea','Plain']] * 45\n",
    "\n",
    "#store the 4 value sets above in 1 variable 'data'.\n",
    "data = coffee_choc + coffee_plain + tea_choc + tea_plain"
   ]
  },
  {
   "cell_type": "code",
   "execution_count": 6,
   "metadata": {},
   "outputs": [],
   "source": [
    "#shuffle the way the data appears in the dataset, but doesnt alter the results - ensures that the data doesnt look contrived.\n",
    "random.shuffle(data)"
   ]
  },
  {
   "cell_type": "code",
   "execution_count": 7,
   "metadata": {},
   "outputs": [
    {
     "data": {
      "text/plain": [
       "(('Coffee',\n",
       "  'Tea',\n",
       "  'Coffee',\n",
       "  'Coffee',\n",
       "  'Tea',\n",
       "  'Coffee',\n",
       "  'Tea',\n",
       "  'Coffee',\n",
       "  'Tea',\n",
       "  'Coffee',\n",
       "  'Tea',\n",
       "  'Coffee',\n",
       "  'Tea',\n",
       "  'Coffee',\n",
       "  'Coffee',\n",
       "  'Tea',\n",
       "  'Coffee',\n",
       "  'Coffee',\n",
       "  'Tea',\n",
       "  'Coffee',\n",
       "  'Tea',\n",
       "  'Coffee',\n",
       "  'Coffee',\n",
       "  'Tea',\n",
       "  'Coffee',\n",
       "  'Tea',\n",
       "  'Tea',\n",
       "  'Coffee',\n",
       "  'Tea',\n",
       "  'Tea',\n",
       "  'Tea',\n",
       "  'Tea',\n",
       "  'Tea',\n",
       "  'Coffee',\n",
       "  'Tea',\n",
       "  'Coffee',\n",
       "  'Coffee',\n",
       "  'Tea',\n",
       "  'Coffee',\n",
       "  'Tea',\n",
       "  'Tea',\n",
       "  'Coffee',\n",
       "  'Tea',\n",
       "  'Tea',\n",
       "  'Tea',\n",
       "  'Coffee',\n",
       "  'Coffee',\n",
       "  'Tea',\n",
       "  'Coffee',\n",
       "  'Tea',\n",
       "  'Coffee',\n",
       "  'Coffee',\n",
       "  'Coffee',\n",
       "  'Coffee',\n",
       "  'Tea',\n",
       "  'Coffee',\n",
       "  'Tea',\n",
       "  'Tea',\n",
       "  'Coffee',\n",
       "  'Coffee',\n",
       "  'Coffee',\n",
       "  'Coffee',\n",
       "  'Coffee',\n",
       "  'Tea',\n",
       "  'Tea',\n",
       "  'Tea',\n",
       "  'Tea',\n",
       "  'Tea',\n",
       "  'Coffee',\n",
       "  'Tea',\n",
       "  'Coffee',\n",
       "  'Coffee',\n",
       "  'Tea',\n",
       "  'Coffee',\n",
       "  'Tea',\n",
       "  'Coffee',\n",
       "  'Tea',\n",
       "  'Tea',\n",
       "  'Tea',\n",
       "  'Tea',\n",
       "  'Coffee',\n",
       "  'Tea',\n",
       "  'Tea',\n",
       "  'Tea',\n",
       "  'Coffee',\n",
       "  'Coffee',\n",
       "  'Coffee',\n",
       "  'Coffee',\n",
       "  'Tea',\n",
       "  'Tea',\n",
       "  'Tea',\n",
       "  'Tea',\n",
       "  'Tea',\n",
       "  'Coffee',\n",
       "  'Coffee',\n",
       "  'Coffee',\n",
       "  'Coffee',\n",
       "  'Coffee',\n",
       "  'Tea',\n",
       "  'Coffee',\n",
       "  'Coffee',\n",
       "  'Tea',\n",
       "  'Tea',\n",
       "  'Tea',\n",
       "  'Tea',\n",
       "  'Coffee',\n",
       "  'Coffee',\n",
       "  'Coffee',\n",
       "  'Coffee',\n",
       "  'Tea',\n",
       "  'Coffee',\n",
       "  'Tea',\n",
       "  'Tea',\n",
       "  'Tea',\n",
       "  'Tea',\n",
       "  'Tea',\n",
       "  'Coffee',\n",
       "  'Coffee',\n",
       "  'Tea',\n",
       "  'Tea',\n",
       "  'Coffee',\n",
       "  'Tea',\n",
       "  'Tea',\n",
       "  'Coffee',\n",
       "  'Tea',\n",
       "  'Coffee',\n",
       "  'Coffee',\n",
       "  'Tea',\n",
       "  'Coffee',\n",
       "  'Coffee',\n",
       "  'Coffee',\n",
       "  'Coffee',\n",
       "  'Tea',\n",
       "  'Coffee',\n",
       "  'Coffee',\n",
       "  'Tea',\n",
       "  'Coffee',\n",
       "  'Coffee',\n",
       "  'Coffee',\n",
       "  'Tea',\n",
       "  'Coffee',\n",
       "  'Tea',\n",
       "  'Tea',\n",
       "  'Coffee',\n",
       "  'Tea',\n",
       "  'Tea',\n",
       "  'Tea',\n",
       "  'Tea',\n",
       "  'Coffee',\n",
       "  'Tea',\n",
       "  'Tea',\n",
       "  'Tea',\n",
       "  'Tea',\n",
       "  'Tea',\n",
       "  'Tea',\n",
       "  'Coffee',\n",
       "  'Tea',\n",
       "  'Tea',\n",
       "  'Tea',\n",
       "  'Coffee',\n",
       "  'Tea',\n",
       "  'Tea',\n",
       "  'Tea',\n",
       "  'Tea',\n",
       "  'Tea',\n",
       "  'Coffee',\n",
       "  'Coffee',\n",
       "  'Coffee',\n",
       "  'Tea',\n",
       "  'Tea',\n",
       "  'Coffee',\n",
       "  'Coffee',\n",
       "  'Coffee',\n",
       "  'Tea',\n",
       "  'Coffee',\n",
       "  'Coffee',\n",
       "  'Tea',\n",
       "  'Tea',\n",
       "  'Coffee',\n",
       "  'Coffee',\n",
       "  'Coffee',\n",
       "  'Tea',\n",
       "  'Coffee',\n",
       "  'Coffee',\n",
       "  'Coffee',\n",
       "  'Tea',\n",
       "  'Coffee',\n",
       "  'Coffee',\n",
       "  'Tea',\n",
       "  'Coffee',\n",
       "  'Coffee',\n",
       "  'Coffee',\n",
       "  'Tea',\n",
       "  'Coffee',\n",
       "  'Coffee',\n",
       "  'Coffee',\n",
       "  'Tea',\n",
       "  'Coffee',\n",
       "  'Tea',\n",
       "  'Coffee',\n",
       "  'Tea'),\n",
       " ('Plain',\n",
       "  'Plain',\n",
       "  'Plain',\n",
       "  'Chocolate',\n",
       "  'Plain',\n",
       "  'Chocolate',\n",
       "  'Chocolate',\n",
       "  'Chocolate',\n",
       "  'Plain',\n",
       "  'Plain',\n",
       "  'Chocolate',\n",
       "  'Chocolate',\n",
       "  'Chocolate',\n",
       "  'Chocolate',\n",
       "  'Plain',\n",
       "  'Chocolate',\n",
       "  'Plain',\n",
       "  'Plain',\n",
       "  'Chocolate',\n",
       "  'Plain',\n",
       "  'Chocolate',\n",
       "  'Plain',\n",
       "  'Plain',\n",
       "  'Chocolate',\n",
       "  'Chocolate',\n",
       "  'Plain',\n",
       "  'Plain',\n",
       "  'Plain',\n",
       "  'Chocolate',\n",
       "  'Plain',\n",
       "  'Chocolate',\n",
       "  'Chocolate',\n",
       "  'Chocolate',\n",
       "  'Chocolate',\n",
       "  'Plain',\n",
       "  'Chocolate',\n",
       "  'Chocolate',\n",
       "  'Plain',\n",
       "  'Chocolate',\n",
       "  'Chocolate',\n",
       "  'Chocolate',\n",
       "  'Plain',\n",
       "  'Chocolate',\n",
       "  'Chocolate',\n",
       "  'Chocolate',\n",
       "  'Chocolate',\n",
       "  'Chocolate',\n",
       "  'Chocolate',\n",
       "  'Plain',\n",
       "  'Plain',\n",
       "  'Plain',\n",
       "  'Chocolate',\n",
       "  'Plain',\n",
       "  'Plain',\n",
       "  'Plain',\n",
       "  'Chocolate',\n",
       "  'Plain',\n",
       "  'Plain',\n",
       "  'Plain',\n",
       "  'Chocolate',\n",
       "  'Chocolate',\n",
       "  'Chocolate',\n",
       "  'Plain',\n",
       "  'Chocolate',\n",
       "  'Chocolate',\n",
       "  'Chocolate',\n",
       "  'Chocolate',\n",
       "  'Chocolate',\n",
       "  'Plain',\n",
       "  'Chocolate',\n",
       "  'Chocolate',\n",
       "  'Plain',\n",
       "  'Plain',\n",
       "  'Plain',\n",
       "  'Plain',\n",
       "  'Chocolate',\n",
       "  'Chocolate',\n",
       "  'Plain',\n",
       "  'Chocolate',\n",
       "  'Chocolate',\n",
       "  'Plain',\n",
       "  'Chocolate',\n",
       "  'Plain',\n",
       "  'Plain',\n",
       "  'Plain',\n",
       "  'Plain',\n",
       "  'Chocolate',\n",
       "  'Chocolate',\n",
       "  'Plain',\n",
       "  'Plain',\n",
       "  'Plain',\n",
       "  'Plain',\n",
       "  'Chocolate',\n",
       "  'Plain',\n",
       "  'Chocolate',\n",
       "  'Plain',\n",
       "  'Plain',\n",
       "  'Plain',\n",
       "  'Plain',\n",
       "  'Plain',\n",
       "  'Chocolate',\n",
       "  'Chocolate',\n",
       "  'Plain',\n",
       "  'Plain',\n",
       "  'Plain',\n",
       "  'Plain',\n",
       "  'Chocolate',\n",
       "  'Plain',\n",
       "  'Plain',\n",
       "  'Plain',\n",
       "  'Plain',\n",
       "  'Plain',\n",
       "  'Plain',\n",
       "  'Chocolate',\n",
       "  'Plain',\n",
       "  'Chocolate',\n",
       "  'Plain',\n",
       "  'Plain',\n",
       "  'Chocolate',\n",
       "  'Plain',\n",
       "  'Chocolate',\n",
       "  'Plain',\n",
       "  'Plain',\n",
       "  'Plain',\n",
       "  'Chocolate',\n",
       "  'Chocolate',\n",
       "  'Chocolate',\n",
       "  'Chocolate',\n",
       "  'Plain',\n",
       "  'Plain',\n",
       "  'Chocolate',\n",
       "  'Plain',\n",
       "  'Plain',\n",
       "  'Chocolate',\n",
       "  'Chocolate',\n",
       "  'Chocolate',\n",
       "  'Chocolate',\n",
       "  'Plain',\n",
       "  'Plain',\n",
       "  'Plain',\n",
       "  'Plain',\n",
       "  'Chocolate',\n",
       "  'Chocolate',\n",
       "  'Plain',\n",
       "  'Chocolate',\n",
       "  'Plain',\n",
       "  'Chocolate',\n",
       "  'Chocolate',\n",
       "  'Plain',\n",
       "  'Plain',\n",
       "  'Plain',\n",
       "  'Chocolate',\n",
       "  'Chocolate',\n",
       "  'Chocolate',\n",
       "  'Plain',\n",
       "  'Plain',\n",
       "  'Plain',\n",
       "  'Plain',\n",
       "  'Chocolate',\n",
       "  'Plain',\n",
       "  'Chocolate',\n",
       "  'Chocolate',\n",
       "  'Plain',\n",
       "  'Plain',\n",
       "  'Chocolate',\n",
       "  'Chocolate',\n",
       "  'Plain',\n",
       "  'Chocolate',\n",
       "  'Chocolate',\n",
       "  'Chocolate',\n",
       "  'Plain',\n",
       "  'Chocolate',\n",
       "  'Chocolate',\n",
       "  'Chocolate',\n",
       "  'Chocolate',\n",
       "  'Plain',\n",
       "  'Chocolate',\n",
       "  'Chocolate',\n",
       "  'Plain',\n",
       "  'Plain',\n",
       "  'Chocolate',\n",
       "  'Chocolate',\n",
       "  'Chocolate',\n",
       "  'Plain',\n",
       "  'Chocolate',\n",
       "  'Plain',\n",
       "  'Chocolate',\n",
       "  'Plain',\n",
       "  'Plain',\n",
       "  'Plain',\n",
       "  'Plain',\n",
       "  'Chocolate',\n",
       "  'Chocolate',\n",
       "  'Plain',\n",
       "  'Plain',\n",
       "  'Chocolate',\n",
       "  'Chocolate',\n",
       "  'Chocolate',\n",
       "  'Chocolate',\n",
       "  'Plain',\n",
       "  'Plain'))"
      ]
     },
     "execution_count": 7,
     "metadata": {},
     "output_type": "execute_result"
    }
   ],
   "source": [
    "drink, biscuit = list(zip(*data))\n",
    "\n",
    "drink, biscuit"
   ]
  },
  {
   "cell_type": "code",
   "execution_count": 8,
   "metadata": {},
   "outputs": [
    {
     "data": {
      "text/html": [
       "<div>\n",
       "<style scoped>\n",
       "    .dataframe tbody tr th:only-of-type {\n",
       "        vertical-align: middle;\n",
       "    }\n",
       "\n",
       "    .dataframe tbody tr th {\n",
       "        vertical-align: top;\n",
       "    }\n",
       "\n",
       "    .dataframe thead th {\n",
       "        text-align: right;\n",
       "    }\n",
       "</style>\n",
       "<table border=\"1\" class=\"dataframe\">\n",
       "  <thead>\n",
       "    <tr style=\"text-align: right;\">\n",
       "      <th></th>\n",
       "      <th>drink</th>\n",
       "      <th>biscuit</th>\n",
       "    </tr>\n",
       "  </thead>\n",
       "  <tbody>\n",
       "    <tr>\n",
       "      <th>0</th>\n",
       "      <td>Coffee</td>\n",
       "      <td>Plain</td>\n",
       "    </tr>\n",
       "    <tr>\n",
       "      <th>1</th>\n",
       "      <td>Tea</td>\n",
       "      <td>Plain</td>\n",
       "    </tr>\n",
       "    <tr>\n",
       "      <th>2</th>\n",
       "      <td>Coffee</td>\n",
       "      <td>Plain</td>\n",
       "    </tr>\n",
       "    <tr>\n",
       "      <th>3</th>\n",
       "      <td>Coffee</td>\n",
       "      <td>Chocolate</td>\n",
       "    </tr>\n",
       "    <tr>\n",
       "      <th>4</th>\n",
       "      <td>Tea</td>\n",
       "      <td>Plain</td>\n",
       "    </tr>\n",
       "    <tr>\n",
       "      <th>...</th>\n",
       "      <td>...</td>\n",
       "      <td>...</td>\n",
       "    </tr>\n",
       "    <tr>\n",
       "      <th>196</th>\n",
       "      <td>Tea</td>\n",
       "      <td>Chocolate</td>\n",
       "    </tr>\n",
       "    <tr>\n",
       "      <th>197</th>\n",
       "      <td>Coffee</td>\n",
       "      <td>Chocolate</td>\n",
       "    </tr>\n",
       "    <tr>\n",
       "      <th>198</th>\n",
       "      <td>Tea</td>\n",
       "      <td>Chocolate</td>\n",
       "    </tr>\n",
       "    <tr>\n",
       "      <th>199</th>\n",
       "      <td>Coffee</td>\n",
       "      <td>Plain</td>\n",
       "    </tr>\n",
       "    <tr>\n",
       "      <th>200</th>\n",
       "      <td>Tea</td>\n",
       "      <td>Plain</td>\n",
       "    </tr>\n",
       "  </tbody>\n",
       "</table>\n",
       "<p>201 rows × 2 columns</p>\n",
       "</div>"
      ],
      "text/plain": [
       "      drink    biscuit\n",
       "0    Coffee      Plain\n",
       "1       Tea      Plain\n",
       "2    Coffee      Plain\n",
       "3    Coffee  Chocolate\n",
       "4       Tea      Plain\n",
       "..      ...        ...\n",
       "196     Tea  Chocolate\n",
       "197  Coffee  Chocolate\n",
       "198     Tea  Chocolate\n",
       "199  Coffee      Plain\n",
       "200     Tea      Plain\n",
       "\n",
       "[201 rows x 2 columns]"
      ]
     },
     "execution_count": 8,
     "metadata": {},
     "output_type": "execute_result"
    }
   ],
   "source": [
    "# create dataframe \n",
    "df = pd.DataFrame({'drink': drink, 'biscuit': biscuit})\n",
    "\n",
    "#print out datafarme to ensure running as expected.\n",
    "df\n"
   ]
  },
  {
   "cell_type": "code",
   "execution_count": 9,
   "metadata": {},
   "outputs": [
    {
     "data": {
      "text/plain": [
       "CrosstabResult(elements=(array(['Coffee', 'Tea'], dtype=object), array(['Chocolate', 'Plain'], dtype=object)), count=array([[43, 57],\n",
       "       [56, 45]]))"
      ]
     },
     "execution_count": 9,
     "metadata": {},
     "output_type": "execute_result"
    }
   ],
   "source": [
    "cross = ss.contingency.crosstab(df['drink'], df['biscuit'])\n",
    "\n",
    "# Show.\n",
    "cross"
   ]
  },
  {
   "cell_type": "code",
   "execution_count": 10,
   "metadata": {},
   "outputs": [
    {
     "data": {
      "text/plain": [
       "(array(['Coffee', 'Tea'], dtype=object),\n",
       " array(['Chocolate', 'Plain'], dtype=object))"
      ]
     },
     "execution_count": 10,
     "metadata": {},
     "output_type": "execute_result"
    }
   ],
   "source": [
    "# organise data within dataset for easy manipulation\n",
    "first, second = cross.elements\n",
    "\n",
    "# Show arrys \n",
    "first, second"
   ]
  },
  {
   "cell_type": "code",
   "execution_count": 11,
   "metadata": {},
   "outputs": [
    {
     "data": {
      "text/plain": [
       "array([[43, 57],\n",
       "       [56, 45]])"
      ]
     },
     "execution_count": 11,
     "metadata": {},
     "output_type": "execute_result"
    }
   ],
   "source": [
    "cross.count "
   ]
  },
  {
   "cell_type": "code",
   "execution_count": 12,
   "metadata": {},
   "outputs": [
    {
     "data": {
      "text/plain": [
       "Chi2ContingencyResult(statistic=3.113937364324669, pvalue=0.07762509678333357, dof=1, expected_freq=array([[49.25373134, 50.74626866],\n",
       "       [49.74626866, 51.25373134]]))"
      ]
     },
     "execution_count": 12,
     "metadata": {},
     "output_type": "execute_result"
    }
   ],
   "source": [
    "result = ss.chi2_contingency(cross.count, correction=False)\n",
    "\n",
    "# Show.\n",
    "result"
   ]
  },
  {
   "cell_type": "code",
   "execution_count": 13,
   "metadata": {},
   "outputs": [
    {
     "data": {
      "text/plain": [
       "array([[49.25373134, 50.74626866],\n",
       "       [49.74626866, 51.25373134]])"
      ]
     },
     "execution_count": 13,
     "metadata": {},
     "output_type": "execute_result"
    }
   ],
   "source": [
    "# The expected fequencies if independent.\n",
    "result.expected_freq"
   ]
  },
  {
   "cell_type": "code",
   "execution_count": 14,
   "metadata": {},
   "outputs": [
    {
     "data": {
      "text/plain": [
       "array([[-6.25373134,  6.25373134],\n",
       "       [ 6.25373134, -6.25373134]])"
      ]
     },
     "execution_count": 14,
     "metadata": {},
     "output_type": "execute_result"
    }
   ],
   "source": [
    "cross.count - result.expected_freq"
   ]
  },
  {
   "cell_type": "code",
   "execution_count": 15,
   "metadata": {},
   "outputs": [
    {
     "data": {
      "text/plain": [
       "array([[39.10915571, 39.10915571],\n",
       "       [39.10915571, 39.10915571]])"
      ]
     },
     "execution_count": 15,
     "metadata": {},
     "output_type": "execute_result"
    }
   ],
   "source": [
    "(cross.count - result.expected_freq)**2"
   ]
  },
  {
   "cell_type": "code",
   "execution_count": 16,
   "metadata": {},
   "outputs": [
    {
     "data": {
      "text/plain": [
       "array([[0.79403437, 0.77068042],\n",
       "       [0.78617265, 0.76304992]])"
      ]
     },
     "execution_count": 16,
     "metadata": {},
     "output_type": "execute_result"
    }
   ],
   "source": [
    "(cross.count - result.expected_freq)**2 / result.expected_freq"
   ]
  },
  {
   "cell_type": "code",
   "execution_count": 17,
   "metadata": {},
   "outputs": [
    {
     "data": {
      "text/plain": [
       "3.113937364324669"
      ]
     },
     "execution_count": 17,
     "metadata": {},
     "output_type": "execute_result"
    }
   ],
   "source": [
    "((cross.count - result.expected_freq)**2 / result.expected_freq).sum()"
   ]
  }
 ],
 "metadata": {
  "kernelspec": {
   "display_name": "base",
   "language": "python",
   "name": "python3"
  },
  "language_info": {
   "codemirror_mode": {
    "name": "ipython",
    "version": 3
   },
   "file_extension": ".py",
   "mimetype": "text/x-python",
   "name": "python",
   "nbconvert_exporter": "python",
   "pygments_lexer": "ipython3",
   "version": "3.10.9"
  },
  "orig_nbformat": 4
 },
 "nbformat": 4,
 "nbformat_minor": 2
}
